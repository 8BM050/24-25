{
 "cells": [
  {
   "cell_type": "markdown",
   "metadata": {},
   "source": [
    "# Environment Setup Test"
   ]
  },
  {
   "cell_type": "code",
   "execution_count": 46,
   "metadata": {},
   "outputs": [
    {
     "name": "stdout",
     "output_type": "stream",
     "text": [
      "1:\t✓\tMatplotlib found!\n",
      "2:\t✓\tNumpy found!\n",
      "3:\t✓\tScipy found!\n",
      "\n",
      "---------------------------------\n",
      "\n",
      "All tests successful!\n"
     ]
    }
   ],
   "source": [
    "# test matplotlib\n",
    "try:\n",
    "    import matplotlib\n",
    "    _matplotlib = True\n",
    "    print(\"1:\\t✓\\tMatplotlib found!\")\n",
    "except:\n",
    "    _matplotlib = False\n",
    "    print(\"1:\\t✗\\tMatplotlib not found\")\n",
    "\n",
    "# test numpy\n",
    "try:\n",
    "    import numpy\n",
    "    _numpy = True\n",
    "    print(\"2:\\t✓\\tNumpy found!\")\n",
    "except:\n",
    "    _numpy = False\n",
    "    print(\"2:\\t✗\\tNumpy not found\")\n",
    "\n",
    "# test scipy\n",
    "try:\n",
    "    import scipy\n",
    "    _scipy = True\n",
    "    print(\"3:\\t✓\\tScipy found!\")\n",
    "except:\n",
    "    _scipy = False\n",
    "    print(\"3:\\t✗\\tScipy not found\")\n",
    "\n",
    "print(\"\\n---------------------------------\\n\")\n",
    "if _matplotlib & _numpy & _scipy:\n",
    "\n",
    "    print(\"All tests successful!\")\n",
    "else:\n",
    "    print(\"Tests unsuccessful!\")"
   ]
  }
 ],
 "metadata": {
  "kernelspec": {
   "display_name": "8bm050",
   "language": "python",
   "name": "python3"
  },
  "language_info": {
   "codemirror_mode": {
    "name": "ipython",
    "version": 3
   },
   "file_extension": ".py",
   "mimetype": "text/x-python",
   "name": "python",
   "nbconvert_exporter": "python",
   "pygments_lexer": "ipython3",
   "version": "3.12.5"
  }
 },
 "nbformat": 4,
 "nbformat_minor": 2
}
