{
 "cells": [
  {
   "cell_type": "markdown",
   "metadata": {},
   "source": [
    "# Whole-body ODE Models with Python\n",
    "\n",
    "[Download this notebook](https://github.com/8BM050/{{< var repo >}}/blob/main/8bm050/notebooks/02-whole-body-models.ipynb){.btn .btn-success .mr-4 }\n",
    "\n",
    "This notebook accompanies chapter 6 of the lecture notes. In this notebook, we will take a look at:\n",
    "\n",
    "1. Model extensions\n",
    "2. Modeling delays\n",
    "3. Combining simulations for subsequent perturbations"
   ]
  },
  {
   "cell_type": "markdown",
   "metadata": {},
   "source": [
    "## Packages\n",
    "Below the packages we will use in this notebook are imported."
   ]
  },
  {
   "cell_type": "code",
   "execution_count": 24,
   "metadata": {},
   "outputs": [],
   "source": [
    "# | code-fold: true\n",
    "\n",
    "import matplotlib.pyplot as plt\n",
    "from math import exp\n",
    "from scipy.integrate import odeint\n",
    "import numpy as np"
   ]
  },
  {
   "cell_type": "markdown",
   "metadata": {},
   "source": [
    "## Model Extension\n",
    "A simple kinetic model for a whole-body system is given by the following set of ODEs:\n",
    "\n",
    "\\begin{align}\n",
    "\\frac{\\mathrm{d}C_1}{\\mathrm{d}t} &= -(k_1 + k_0) C_1 + k_2 C_2 \\\\\n",
    "\\frac{\\mathrm{d}C_2}{\\mathrm{d}t} &= k_1 C_1 - k_2 C_2\n",
    "\\end{align}\n",
    "\n",
    "where $C_1$ and $C_2$ are the concentrations in compartment 1 and compartment 2, and $k_0$, $k_1$, and $k_2$ are rate constants. This model can be implemented in Python as follows:"
   ]
  },
  {
   "cell_type": "code",
   "execution_count": 25,
   "metadata": {},
   "outputs": [],
   "source": [
    "def compartment_model(c, t, k0, k1, k2):\n",
    "\n",
    "    dC1 = -(k1 + k0) * c[0] + k2 * c[1]\n",
    "    dC2 = k1*c[0] - k2 * c[1]\n",
    "\n",
    "    return [dC1, dC2]\n"
   ]
  },
  {
   "cell_type": "markdown",
   "metadata": {},
   "source": [
    "We may want to extend this model, for example, a first-order appearance term of $C_1$ from a new compartment $C_0$. The model then becomes:\n",
    "\n",
    "\\begin{align}\n",
    "\\frac{\\mathrm{d}C_0}{\\mathrm{d}t} &= -k_3 C_0 \\\\\n",
    "\\frac{\\mathrm{d}C_1}{\\mathrm{d}t} &= -k_0 C_1 - k_1 C_1 + k_2 C_2 + k_3 C_0 \\\\\n",
    "\\frac{\\mathrm{d}C_2}{\\mathrm{d}t} &= k_1 C_1 - k_2 C_2\n",
    "\\end{align}\n",
    "\n",
    "A way to extend the current model in Python, is to build a new function of the extended model, that calls the original model function. This is shown in the code below."
   ]
  },
  {
   "cell_type": "code",
   "execution_count": null,
   "metadata": {},
   "outputs": [],
   "source": [
    "def extended_compartment_model(c, t, k0, k1, k2, k3):\n",
    "    dC0 = -k3*c[0]\n",
    "    dC1, dC2 = compartment_model(c[1:3], t, k0, k1, k2)\n",
    "\n",
    "    dC1 += k3*c[0]\n",
    "\n",
    "    return [dC0, dC1, dC2]"
   ]
  },
  {
   "cell_type": "markdown",
   "metadata": {},
   "source": [
    "We can then use the `odeint` function from the `scipy.integrate` module to solve the ODEs, which is similar to the previous notebook.\n",
    "\n",
    "### Exercise 1)\n",
    "Simulate the compartment model and the extended compartment model for the following parameters:\n",
    "- $k_0 = 0.1$\n",
    "- $k_1 = 0.15$\n",
    "- $k_2 = 0.32$\n",
    "- $k_3 = 0.2$\n",
    "\n",
    "Use the initial conditions $C_0(0) = 1$, $C_1(0) = 1$, and $C_2(0) = 0$. Plot the concentrations as a function of time."
   ]
  },
  {
   "cell_type": "code",
   "execution_count": 27,
   "metadata": {},
   "outputs": [],
   "source": [
    "# Your code here!"
   ]
  },
  {
   "cell_type": "markdown",
   "metadata": {},
   "source": [
    "## Modeling Delays\n",
    "In the lecture notes and in the lectures, delay compartments were introduced. Delay compartments are implemented in the same way as a normal equation. Consider the model:\n",
    "\n",
    "$$\n",
    "\\begin{align}\n",
    "\\frac{\\mathrm{d}C_0}{\\mathrm{d}t} &= -k_0 C_0 \\\\\n",
    "\\frac{\\mathrm{d}C_{\\text{end}}}{\\mathrm{d}t} &= k_0 C_0 - k_{\\text{end}} C_1 \n",
    "\\end{align}\n",
    "$$\n",
    "\n",
    "where $C_0$ is the input compartment, and $C_{\\text{end}}$ is the output compartment. We can add a delay compartment $C_1$, which is a first-order compartment with a rate constant $k_1$. The model then becomes:\n",
    "\n",
    "$$\n",
    "\\begin{align}\n",
    "\\frac{\\mathrm{d}C_0}{\\mathrm{d}t} &= -k_0 C_0 \\\\\n",
    "\\frac{\\mathrm{d}C_1}{\\mathrm{d}t} &= k_0 C_0 - k_1 C_1 \\\\\n",
    "\\frac{\\mathrm{d}C_{\\text{end}}}{\\mathrm{d}t} &= k_1 C_1 - k_{\\text{end}} C_{\\text{end}}\n",
    "\\end{align}\n",
    "$$\n",
    "\n",
    "We can implement this model in Python in the same way as the previous models. The code below shows how to implement this model."
   ]
  },
  {
   "cell_type": "code",
   "execution_count": 28,
   "metadata": {},
   "outputs": [],
   "source": [
    "def zero_delay(c, t, k0, kend):\n",
    "\n",
    "    dc0 = -k0*c[0]\n",
    "    dcend = k0*c[0] - kend*c[-1]\n",
    "\n",
    "    return [dc0, dcend]\n",
    "\n",
    "\n",
    "def one_delay(c, t, k0, k1, kend):\n",
    "    dc0 = -k0*c[0]\n",
    "    dc1 = k0*c[0] - k1*c[1]\n",
    "    dcend = k1*c[1] - kend*c[-1]\n",
    "\n",
    "    return [dc0, dc1, dcend]"
   ]
  },
  {
   "cell_type": "markdown",
   "metadata": {},
   "source": [
    "### Exercise 2)\n",
    "Simulate the delay compartment model for the following parameters:\n",
    "- $k_0 = 0.1$\n",
    "- $k_1 = 0.15$\n",
    "\n",
    "Use the initial conditions $C_0(0) = 1$, $C_1(0) = 0$, and $C_{\\text{end}}(0) = 0$. Plot the concentrations of $C_{\\text{end}}$ as a function of time. Compare the results with the model without the delay compartment."
   ]
  },
  {
   "cell_type": "code",
   "execution_count": 29,
   "metadata": {},
   "outputs": [],
   "source": [
    "# Your code here!"
   ]
  },
  {
   "cell_type": "markdown",
   "metadata": {},
   "source": [
    "\n",
    "### Exercise 3)\n",
    "Create a model with two, three and four delay compartments. Each delay compartment has the same rate constant $k_1$. Simulate the model for the parameters given in exercise 2. Plot the concentrations of $C_{\\text{end}}$ as a function of time for each model in one plot. Explain the effect of the number of delay compartments on the output."
   ]
  },
  {
   "cell_type": "code",
   "execution_count": 30,
   "metadata": {},
   "outputs": [],
   "source": [
    "# Your code here!"
   ]
  },
  {
   "cell_type": "markdown",
   "metadata": {},
   "source": [
    "## Combining Simulations for Subsequent Perturbations\n",
    "For example, when modeling multiple subsequent bolus injections at different times, we need to combine different simulations into one. This can be done by running the simulation for the first perturbation, and then using the final concentrations as initial conditions for the next simulation. The code below shows how to do this."
   ]
  },
  {
   "cell_type": "markdown",
   "metadata": {},
   "source": [
    "\n",
    "An example the following simple system can be:\n",
    "\n",
    "$$\\frac{\\mathrm{d}x}{\\mathrm{d}t} = -kx $$\n",
    "\n",
    "Where we have an initial value of $x = 2.0$ at $t = 0$, and add another dose of $2.0$ at $t = 4$.\n",
    "\n",
    "We can first implement the model:"
   ]
  },
  {
   "cell_type": "code",
   "execution_count": 31,
   "metadata": {},
   "outputs": [],
   "source": [
    "def simple_model(x, t, k):\n",
    "    return -k*x\n",
    "\n",
    "k = 0.5\n",
    "x0 = 2.0"
   ]
  },
  {
   "cell_type": "markdown",
   "metadata": {},
   "source": [
    "We can then do the first simulation, up to $t=4.0$"
   ]
  },
  {
   "cell_type": "code",
   "execution_count": 32,
   "metadata": {},
   "outputs": [],
   "source": [
    "simulation_1 = odeint(simple_model, x0, np.linspace(0,4,100), args=(k,))"
   ]
  },
  {
   "cell_type": "markdown",
   "metadata": {},
   "source": [
    "We can then do the second simulation, taking the final timepoint of the first as initial condition and adding the second dose."
   ]
  },
  {
   "cell_type": "code",
   "execution_count": 33,
   "metadata": {},
   "outputs": [],
   "source": [
    "# the new initial condition is the end of simulation 1 plus the dose\n",
    "x0_2 = simulation_1[-1] + 2.0\n",
    "\n",
    "# simulate with the new initial condition, starting where the previous simulation ended\n",
    "simulation_2 = odeint(simple_model, x0_2, np.linspace(4,10,100), args=(k,))"
   ]
  },
  {
   "cell_type": "markdown",
   "metadata": {},
   "source": [
    "We can then combine both simulations and visualize the result."
   ]
  },
  {
   "cell_type": "code",
   "execution_count": 34,
   "metadata": {},
   "outputs": [],
   "source": [
    "# combine the timepoints\n",
    "timepoints = np.concatenate([np.linspace(0,4,100), np.linspace(4,10,100)])\n",
    "simulation = np.concatenate([simulation_1, simulation_2])"
   ]
  },
  {
   "cell_type": "code",
   "execution_count": 35,
   "metadata": {},
   "outputs": [
    {
     "data": {
      "image/png": "[encoded data removed]",
      "text/plain": [
       "<Figure size 640x480 with 1 Axes>"
      ]
     },
     "metadata": {},
     "output_type": "display_data"
    }
   ],
   "source": [
    "# | fig-cap: Two sequential perturbations of the simulated ODE system.\n",
    "# | code-fold: true \n",
    "# | lightbox: true \n",
    "\n",
    "# visualize\n",
    "plt.plot(timepoints, simulation)\n",
    "plt.xlabel(\"Time [h]\")\n",
    "plt.ylabel(\"Value [a.u.]\")\n",
    "plt.show()"
   ]
  },
  {
   "cell_type": "markdown",
   "metadata": {},
   "source": [
    "### Exercise 4)\n",
    "Combine three simulations of the previous model with the following perturbations:\n",
    "- $x = 2.0$ at $t = 0$\n",
    "- $x = x + 2.0$ at $t = 4$\n",
    "- $x = x + 2.0$ at $t = 8$"
   ]
  }
 ],
 "metadata": {
  "kernelspec": {
   "display_name": "8bm050",
   "language": "python",
   "name": "python3"
  },
  "language_info": {
   "codemirror_mode": {
    "name": "ipython",
    "version": 3
   },
   "file_extension": ".py",
   "mimetype": "text/x-python",
   "name": "python",
   "nbconvert_exporter": "python",
   "pygments_lexer": "ipython3",
   "version": "3.12.5"
  }
 },
 "nbformat": 4,
 "nbformat_minor": 2
}
